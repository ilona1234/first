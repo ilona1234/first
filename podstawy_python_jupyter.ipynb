{
  "nbformat": 4,
  "nbformat_minor": 0,
  "metadata": {
    "kernelspec": {
      "display_name": "Python 3",
      "language": "python",
      "name": "python3"
    },
    "language_info": {
      "codemirror_mode": {
        "name": "ipython",
        "version": 3
      },
      "file_extension": ".py",
      "mimetype": "text/x-python",
      "name": "python",
      "nbconvert_exporter": "python",
      "pygments_lexer": "ipython3",
      "version": "3.7.3"
    },
    "colab": {
      "name": "podstawy_python_jupyter.ipynb",
      "provenance": [],
      "include_colab_link": true
    }
  },
  "cells": [
    {
      "cell_type": "markdown",
      "metadata": {
        "id": "view-in-github",
        "colab_type": "text"
      },
      "source": [
        "<a href=\"https://colab.research.google.com/github/ilona1234/first/blob/master/podstawy_python_jupyter.ipynb\" target=\"_parent\"><img src=\"https://colab.research.google.com/assets/colab-badge.svg\" alt=\"Open In Colab\"/></a>"
      ]
    },
    {
      "cell_type": "code",
      "metadata": {
        "id": "TpiBitLZyxLk"
      },
      "source": [
        "a = 2+2"
      ],
      "execution_count": 14,
      "outputs": []
    },
    {
      "cell_type": "markdown",
      "metadata": {
        "id": "TUZIAK52zpDS"
      },
      "source": [
        "**Poniżej są podstawy Pythona**\n",
        "Python "
      ]
    },
    {
      "cell_type": "code",
      "metadata": {
        "id": "bAU0Btm-0ade"
      },
      "source": [
        ""
      ],
      "execution_count": null,
      "outputs": []
    },
    {
      "cell_type": "code",
      "metadata": {
        "id": "X-Uk0DHYmORC",
        "outputId": "b948b785-4ed2-4975-ffe9-2f2379b5f185",
        "colab": {
          "base_uri": "https://localhost:8080/"
        }
      },
      "source": [
        "# komentarz\n",
        "\n",
        "# if\n",
        "\n",
        "wielkosc = 5\n",
        "wielkosc += 1\n",
        "\n",
        "\n",
        "print(wielkosc)"
      ],
      "execution_count": 11,
      "outputs": [
        {
          "output_type": "stream",
          "text": [
            "6\n"
          ],
          "name": "stdout"
        }
      ]
    },
    {
      "cell_type": "code",
      "metadata": {
        "id": "4p5QM1rLmORJ",
        "outputId": "1170ee86-4294-4449-b298-fa6ac3a20e78",
        "colab": {
          "base_uri": "https://localhost:8080/"
        }
      },
      "source": [
        "if wielkosc >6:\n",
        "    print(\"ale duze\")\n",
        "elif wielkosc < 3:\n",
        "    print(\"malutkie\")\n",
        "    print('franek')\n",
        "else:\n",
        "    print(\"w sam raz\")"
      ],
      "execution_count": 10,
      "outputs": [
        {
          "output_type": "stream",
          "text": [
            "w sam raz\n"
          ],
          "name": "stdout"
        }
      ]
    },
    {
      "cell_type": "code",
      "metadata": {
        "id": "Gm1WU9Y6mORP",
        "outputId": "3d510656-77c2-4b57-d5d9-e7bbd0a90d56"
      },
      "source": [
        "studenci = [\"Ania\", \"Zosia\", \"Kasia\", \"Franek\"]\n",
        "\n",
        "print(studenci)"
      ],
      "execution_count": null,
      "outputs": [
        {
          "output_type": "stream",
          "text": [
            "['Ania', 'Zosia', 'Kasia', 'Franek']\n"
          ],
          "name": "stdout"
        }
      ]
    },
    {
      "cell_type": "code",
      "metadata": {
        "id": "MLbt9eo-mORT",
        "outputId": "c81d669e-ee62-43a4-f2a8-9906605315be"
      },
      "source": [
        "studenci[0][1]"
      ],
      "execution_count": null,
      "outputs": [
        {
          "output_type": "execute_result",
          "data": {
            "text/plain": [
              "'Ania'"
            ]
          },
          "metadata": {
            "tags": []
          },
          "execution_count": 16
        }
      ]
    },
    {
      "cell_type": "code",
      "metadata": {
        "scrolled": true,
        "id": "NkyBwatymORY",
        "outputId": "531605e3-f287-464a-b6ab-f01a3072b3c4"
      },
      "source": [
        "for student in studenci:\n",
        "    print(\"student ma na imie:\", student)\n",
        "    \n",
        "for student in studenci:\n",
        "    print(student)\n",
        "    if student[0]==\"A\":\n",
        "        print(\"student na poczatku alfabetu\")"
      ],
      "execution_count": null,
      "outputs": [
        {
          "output_type": "stream",
          "text": [
            "student ma na imie: Ania\n",
            "student ma na imie: Zosia\n",
            "student ma na imie: Kasia\n",
            "student ma na imie: Franek\n",
            "Ania\n",
            "student na poczatku alfabetu\n",
            "Zosia\n",
            "Kasia\n",
            "Franek\n"
          ],
          "name": "stdout"
        }
      ]
    },
    {
      "cell_type": "code",
      "metadata": {
        "id": "L-sL-I3emORc",
        "outputId": "3ba4bd5f-8902-4879-a865-0d43253c5419"
      },
      "source": [
        "for numer, student in enumerate(studenci):\n",
        "    print(\"student {} ma numer {}\".format(student,numer))"
      ],
      "execution_count": null,
      "outputs": [
        {
          "output_type": "stream",
          "text": [
            "student Ania ma numer 0\n",
            "student Zosia ma numer 1\n",
            "student Kasia ma numer 2\n",
            "student Franek ma numer 3\n"
          ],
          "name": "stdout"
        }
      ]
    },
    {
      "cell_type": "code",
      "metadata": {
        "id": "ZGuGAWkbmORf",
        "outputId": "82982c91-ede0-45b5-da60-2b1bd2e6f944"
      },
      "source": [
        "oceny = [2,2,5,3]\n",
        "\n",
        "for numer, student in enumerate(studenci):\n",
        "    print(\"student {} ma numer {} i ocenę {}\".format(student,numer,oceny[numer]))\n",
        "\n",
        "print(\"--\"*20)    \n",
        "for number, (student, ocena) in enumerate(zip(studenci,oceny)):\n",
        "    print(\"student {} ma numer {} i ocenę {}\".format(student,number,ocena))"
      ],
      "execution_count": null,
      "outputs": [
        {
          "output_type": "stream",
          "text": [
            "student Ania ma numer 0 i ocenę 2\n",
            "student Zosia ma numer 1 i ocenę 2\n",
            "student Kasia ma numer 2 i ocenę 5\n",
            "student Franek ma numer 3 i ocenę 3\n",
            "----------------------------------------\n",
            "student Ania ma numer 0 i ocenę 2\n",
            "student Zosia ma numer 1 i ocenę 2\n",
            "student Kasia ma numer 2 i ocenę 5\n",
            "student Franek ma numer 3 i ocenę 3\n"
          ],
          "name": "stdout"
        }
      ]
    },
    {
      "cell_type": "code",
      "metadata": {
        "id": "nm05-PmlmORj"
      },
      "source": [
        "trzy_elementy= [1,2,3]\n",
        "pierwszy,drugi,trzeci= trzy_elementy"
      ],
      "execution_count": null,
      "outputs": []
    },
    {
      "cell_type": "code",
      "metadata": {
        "id": "6RNvMSnZmORm",
        "outputId": "aaec00a7-566b-45d5-c2fa-846dd5371525"
      },
      "source": [
        "n = 1\n",
        "\n",
        "while(n < 10):\n",
        "    print(n)\n",
        "    n+=1"
      ],
      "execution_count": null,
      "outputs": [
        {
          "output_type": "stream",
          "text": [
            "1\n",
            "2\n",
            "3\n",
            "4\n",
            "5\n",
            "6\n",
            "7\n",
            "8\n",
            "9\n"
          ],
          "name": "stdout"
        }
      ]
    },
    {
      "cell_type": "code",
      "metadata": {
        "id": "OX6G5iPJmORo"
      },
      "source": [
        "def dodaj_dwa(liczba):\n",
        "    return liczba+2\n",
        "\n",
        "def dodaj_trzy(liczba):\n",
        "    return liczba+3\n",
        "\n",
        "def dodaj_dwie_liczby(liczba1,liczba2)\n",
        "    return liczba1+liczba2\n",
        "\n",
        "\n",
        "dodaj_cztery = lambda liczba:liczba+4"
      ],
      "execution_count": null,
      "outputs": []
    },
    {
      "cell_type": "code",
      "metadata": {
        "id": "NDQAabA-mORr",
        "outputId": "fc2e0bea-410d-4678-ea36-2c7666c8bd2b"
      },
      "source": [
        "funkcje=[dodaj_dwa,dodaj_trzy,dodaj_cztery]\n",
        "\n",
        "jakis_nr= 10\n",
        "\n",
        "for funkcja in funkcje:\n",
        "    print(funkcja(jakis_nr))"
      ],
      "execution_count": null,
      "outputs": [
        {
          "output_type": "stream",
          "text": [
            "12\n",
            "13\n",
            "14\n"
          ],
          "name": "stdout"
        }
      ]
    },
    {
      "cell_type": "code",
      "metadata": {
        "id": "BdWm84S0mORw",
        "outputId": "c0961dea-4d15-4666-f4e9-788a5a7721c8",
        "colab": {
          "base_uri": "https://localhost:8080/",
          "height": 198
        }
      },
      "source": [
        "studenci[0]\n",
        "studenci[1:]\n",
        "studenci[:-1]"
      ],
      "execution_count": 2,
      "outputs": [
        {
          "output_type": "error",
          "ename": "NameError",
          "evalue": "ignored",
          "traceback": [
            "\u001b[0;31m---------------------------------------------------------------------------\u001b[0m",
            "\u001b[0;31mNameError\u001b[0m                                 Traceback (most recent call last)",
            "\u001b[0;32m<ipython-input-2-be7cdc6d248c>\u001b[0m in \u001b[0;36m<module>\u001b[0;34m()\u001b[0m\n\u001b[0;32m----> 1\u001b[0;31m \u001b[0mstudenci\u001b[0m\u001b[0;34m[\u001b[0m\u001b[0;36m0\u001b[0m\u001b[0;34m]\u001b[0m\u001b[0;34m\u001b[0m\u001b[0;34m\u001b[0m\u001b[0m\n\u001b[0m\u001b[1;32m      2\u001b[0m \u001b[0mstudenci\u001b[0m\u001b[0;34m[\u001b[0m\u001b[0;36m1\u001b[0m\u001b[0;34m:\u001b[0m\u001b[0;34m]\u001b[0m\u001b[0;34m\u001b[0m\u001b[0;34m\u001b[0m\u001b[0m\n\u001b[1;32m      3\u001b[0m \u001b[0mstudenci\u001b[0m\u001b[0;34m[\u001b[0m\u001b[0;34m:\u001b[0m\u001b[0;34m-\u001b[0m\u001b[0;36m1\u001b[0m\u001b[0;34m]\u001b[0m\u001b[0;34m\u001b[0m\u001b[0;34m\u001b[0m\u001b[0m\n",
            "\u001b[0;31mNameError\u001b[0m: name 'studenci' is not defined"
          ]
        }
      ]
    },
    {
      "cell_type": "code",
      "metadata": {
        "id": "iQ4Dm4RVmOR0",
        "outputId": "4d865dd3-21b8-42f1-c1fa-4162691a5471",
        "colab": {
          "base_uri": "https://localhost:8080/"
        }
      },
      "source": [
        "#### challenge 0.1\n",
        "\n",
        "zajecia = [\"wf\",\"informatyka\",\"relax\",\"mispy\",\"piateczek\"]\n",
        "\n",
        "dnityg= [\"Pon\",\"Wto\",\"Sro\",\"Czwar\",\"Pio\"]\n",
        "\n",
        "# wyprintuj zajecia od srody do piatku\n",
        "x = range(2,5,1)\n",
        "for n in x:\n",
        "    print(zajecia[n])\n",
        "# wyprintuj oprocz srody\n",
        "y = range(5)\n",
        "for i in y:\n",
        "    if i != dnityg.index(\"Sro\"):\n",
        "        print(zajecia[i])"
      ],
      "execution_count": 17,
      "outputs": [
        {
          "output_type": "stream",
          "text": [
            "relax\n",
            "mispy\n",
            "piateczek\n",
            "wf\n",
            "informatyka\n",
            "mispy\n",
            "piateczek\n"
          ],
          "name": "stdout"
        }
      ]
    },
    {
      "cell_type": "code",
      "metadata": {
        "id": "BZ8vylJdmOR2",
        "outputId": "5cb0f85f-a62e-4082-cf5a-25ad4dcc96ec",
        "colab": {
          "base_uri": "https://localhost:8080/"
        }
      },
      "source": [
        "#### challenge 0.2\n",
        "\n",
        "zajecia = [[\"wf\"],\n",
        "           [\"informatyka\", \"nauka czytania\"],\n",
        "           [\"relax\", \"jedzenie\"],\n",
        "           [\"mispy\",\"mispy w domu\"],\n",
        "           [\"piateczek\", \"praca domowa z mispow\", \"Ilovemispy\", \"mispy w czasie snu\"]\n",
        "          ]\n",
        "\n",
        "dnityg= [\"Pon\",\"Wto\",\"Sro\",\"Czwar\",\"Pio\"]\n",
        "\n",
        "# zdefiniuj funkcje ktora poda ile jest zajec danego dnia\n",
        "def ile_zajec(zajecia,dnityg):\n",
        "    liczba_zajec = []\n",
        "    x = len(dnityg)\n",
        "    for i in range(x):\n",
        "      liczba_zajec.append(len(zajecia[i]))\n",
        "\n",
        "    return liczba_zajec\n",
        "\n",
        "liczba_zajec = ile_zajec(zajecia, dnityg)\n",
        "print(liczba_zajec)\n",
        "# lista_zajec_z_dnia -> ile ich jest\n",
        "\n",
        "# po\n",
        "# posortuj dni po najbardziej zajetych\n",
        "dni_do_sortowania = zip(dnityg,liczba_zajec)\n",
        "result  = sorted(dni_do_sortowania, key = lambda x:x[1], reverse = True)\n",
        "dni_posortowane = []\n",
        "for x in result:\n",
        "    dni_posortowane.append(x[0])\n",
        "print (dni_posortowane)\n",
        "\n",
        "#### challenge 0.3\n",
        "\n",
        "# napisz program ktory zdajdzie dzien z najwieksza iloscia mispow\n",
        "liczba_mispow = []\n",
        "x = len(dnityg)\n",
        "for i in range(x):\n",
        "    liczba_mispow.append(0)\n",
        "    for zajecie in zajecia[i]:\n",
        "      if zajecie.find(\"misp\") != -1:\n",
        "          liczba_mispow[i] += 1\n",
        "dni_z_liczba_mispow  = zip(dnityg,liczba_mispow)\n",
        "max_mispow = max(dni_z_liczba_mispow, key = lambda x:x[1])\n",
        "dzien_z_najwieksza_iloscia_mispow = max_mispow[0]\n",
        "print(dzien_z_najwieksza_iloscia_mispow)\n"
      ],
      "execution_count": 33,
      "outputs": [
        {
          "output_type": "stream",
          "text": [
            "[1, 2, 2, 2, 4]\n",
            "['Pio', 'Wto', 'Sro', 'Czwar', 'Pon']\n",
            "Pio\n"
          ],
          "name": "stdout"
        }
      ]
    },
    {
      "cell_type": "code",
      "metadata": {
        "id": "CNiZ1E3ZmOR6",
        "outputId": "9ba6126b-6db0-4a6c-dd6d-54e8d77941ce"
      },
      "source": [
        "len(zajecia)\n",
        "\n",
        "zajecia[4][1]\n",
        "\n",
        "\"Ma\" in \"MojaMaMa\"\n",
        "\n",
        "liczby=[\"22\",\"11\",\"33\",\"100\"]\n",
        "liczby_i_nazwy= [(\"22\",\"dwadziescia dwa\"),\n",
        "                 (\"11\",\"jedenascie\"),\n",
        "        (\"33\",\"trzydziesci trzy\"),(\"100\",\"sto\")]\n",
        "sorted(liczby)\n",
        "\n",
        "sorted(liczby, key=int)\n",
        "\n",
        "liczby_kolejnosc= enumerate(liczby)\n",
        "\n",
        "def czy_jest_jeden(liczba):\n",
        "\n",
        "    if \"1\" in liczba:\n",
        "        return 1\n",
        "    else:\n",
        "        return 0\n",
        "def na_liczbe(krotka):\n",
        "         return int(krotka[0])\n",
        "def na_liczbe_index(krotka):\n",
        "         return int(krotka[1])    \n",
        "sorted(liczby, key=czy_jest_jeden)\n",
        "         \n",
        "sorted(liczby_i_nazwy,key=na_liczbe)\n",
        "\n",
        "sorted(liczby_kolejnosc,key=na_liczbe_index)"
      ],
      "execution_count": null,
      "outputs": [
        {
          "output_type": "execute_result",
          "data": {
            "text/plain": [
              "[(1, '11'), (0, '22'), (2, '33'), (3, '100')]"
            ]
          },
          "metadata": {
            "tags": []
          },
          "execution_count": 51
        }
      ]
    },
    {
      "cell_type": "code",
      "metadata": {
        "id": "EeMkjbHKmOR-",
        "outputId": "84db32cb-81f9-49b9-ef77-3c53ac1a158d"
      },
      "source": [
        "sorted(liczby_kolejnosc,key=)"
      ],
      "execution_count": null,
      "outputs": [
        {
          "output_type": "execute_result",
          "data": {
            "text/plain": [
              "<enumerate at 0x7f5efea012d0>"
            ]
          },
          "metadata": {
            "tags": []
          },
          "execution_count": 48
        }
      ]
    },
    {
      "cell_type": "code",
      "metadata": {
        "id": "HIQNJu2QmOSB"
      },
      "source": [
        ""
      ],
      "execution_count": null,
      "outputs": []
    }
  ]
}